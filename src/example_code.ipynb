{
 "cells": [
  {
   "cell_type": "markdown",
   "metadata": {},
   "source": [
    "## import関係"
   ]
  },
  {
   "cell_type": "code",
   "execution_count": 1,
   "metadata": {},
   "outputs": [],
   "source": [
    "from PIL import Image\n",
    "import torch\n",
    "import torch.nn as nn\n",
    "from torchvision import transforms, models\n",
    "from model import Net"
   ]
  },
  {
   "cell_type": "markdown",
   "metadata": {},
   "source": [
    "## path関係"
   ]
  },
  {
   "cell_type": "code",
   "execution_count": 2,
   "metadata": {},
   "outputs": [],
   "source": [
    "good_img_path = \"../Dataset/good/000.png\"\n",
    "bad_img_path = \"../Dataset/bad/bent/000.png\"\n",
    "model_path = \"./model_weight.pth\""
   ]
  },
  {
   "cell_type": "markdown",
   "metadata": {},
   "source": [
    "## 関数"
   ]
  },
  {
   "cell_type": "code",
   "execution_count": 3,
   "metadata": {},
   "outputs": [],
   "source": [
    "def load_model(model_path):\n",
    "    \"\"\"モデルの重みを読み込む\n",
    "    :param: model_path: str\n",
    "    :return: 重みが読み込まれたモデル\n",
    "    \"\"\"\n",
    "    model = Net()\n",
    "    model_path = \"./model_weight.pth\"\n",
    "\n",
    "    #モデルの重みをここでloadする\n",
    "    #model.hogehoge\n",
    "\n",
    "\n",
    "    return model\n",
    "\n",
    "\n",
    "def pred(model, img):\n",
    "    \"\"\"画像から良品不良品を予測する\n",
    "\n",
    "    \"\"\"\n",
    "    \n",
    "    model.eval()\n",
    "\n",
    "    #ファイル読み込み\n",
    "    transform = transforms.Compose([\n",
    "        transforms.Resize((256, 256)),\n",
    "        transforms.ToTensor(),\n",
    "        transforms.Normalize(mean=[0.485, 0.456, 0.406],\n",
    "                                  std=[0.229, 0.224, 0.225])\n",
    "    ])\n",
    "\n",
    "    img = transform(img).unsqueeze(0)\n",
    "\n",
    "    #予測\n",
    "    output = model(img)\n",
    "    softmax = nn.Softmax(dim=1)\n",
    "    _, pred = torch.max(output, 1)\n",
    "    ans = pred[0].item()\n",
    "    if ans == 0:\n",
    "        return \"不良品\"\n",
    "    else:\n",
    "        return \"良品\"\n",
    "\n",
    "def save_model(model):\n",
    "    \"\"\"モデルの重みを保存する\n",
    "\n",
    "    \"\"\"\n",
    "    #モデルの重みをここでloadする\n",
    "    #model.hogehoge"
   ]
  },
  {
   "cell_type": "markdown",
   "metadata": {},
   "source": [
    "## 動作"
   ]
  },
  {
   "cell_type": "code",
   "execution_count": 4,
   "metadata": {},
   "outputs": [],
   "source": [
    "good_img = Image.open(good_img_path)\n",
    "bad_img = Image.open(bad_img_path)\n",
    "\n",
    "# modelの重み読み込み\n",
    "model = load_model(model_path=model_path)\n",
    "\n",
    "# 予測\n",
    "ans = pred(model=model, img=good_img)\n",
    "\n",
    "# modelの重み保存\n",
    "save_model(model=model)\n"
   ]
  },
  {
   "cell_type": "code",
   "execution_count": null,
   "metadata": {},
   "outputs": [],
   "source": []
  }
 ],
 "metadata": {
  "kernelspec": {
   "display_name": "Python 3 (ipykernel)",
   "language": "python",
   "name": "python3"
  },
  "language_info": {
   "codemirror_mode": {
    "name": "ipython",
    "version": 3
   },
   "file_extension": ".py",
   "mimetype": "text/x-python",
   "name": "python",
   "nbconvert_exporter": "python",
   "pygments_lexer": "ipython3",
   "version": "3.8.8 (default, Apr 13 2021, 15:08:03) [MSC v.1916 64 bit (AMD64)]"
  },
  "vscode": {
   "interpreter": {
    "hash": "57ffe60b67f022e3e004c496d94efce98e49a91bd62ee70e03574f0be0e9ecc2"
   }
  }
 },
 "nbformat": 4,
 "nbformat_minor": 4
}
